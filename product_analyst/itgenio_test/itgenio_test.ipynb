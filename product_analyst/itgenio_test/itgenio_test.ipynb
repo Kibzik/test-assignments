{
 "cells": [
  {
   "cell_type": "code",
   "execution_count": 1,
   "id": "f32f9d50",
   "metadata": {
    "ExecuteTime": {
     "end_time": "2022-12-08T16:40:31.078036Z",
     "start_time": "2022-12-08T16:40:29.581497Z"
    }
   },
   "outputs": [],
   "source": [
    "import pandas as pd\n",
    "import numpy as np\n",
    "import holidays\n",
    "import seaborn as sns\n",
    "import matplotlib.pyplot as plt"
   ]
  },
  {
   "cell_type": "markdown",
   "id": "aa01da84",
   "metadata": {},
   "source": [
    "# Import Data"
   ]
  },
  {
   "cell_type": "code",
   "execution_count": 2,
   "id": "1f9ee973",
   "metadata": {
    "ExecuteTime": {
     "end_time": "2022-12-08T16:40:31.220008Z",
     "start_time": "2022-12-08T16:40:31.079990Z"
    }
   },
   "outputs": [
    {
     "data": {
      "text/html": [
       "<div>\n",
       "<style scoped>\n",
       "    .dataframe tbody tr th:only-of-type {\n",
       "        vertical-align: middle;\n",
       "    }\n",
       "\n",
       "    .dataframe tbody tr th {\n",
       "        vertical-align: top;\n",
       "    }\n",
       "\n",
       "    .dataframe thead th {\n",
       "        text-align: right;\n",
       "    }\n",
       "</style>\n",
       "<table border=\"1\" class=\"dataframe\">\n",
       "  <thead>\n",
       "    <tr style=\"text-align: right;\">\n",
       "      <th></th>\n",
       "      <th>ts</th>\n",
       "      <th>user</th>\n",
       "      <th>payment</th>\n",
       "    </tr>\n",
       "  </thead>\n",
       "  <tbody>\n",
       "    <tr>\n",
       "      <th>0</th>\n",
       "      <td>2022-01-01 00:03:40.907</td>\n",
       "      <td>Kkkww7LxsEqojhi6i</td>\n",
       "      <td>101.000</td>\n",
       "    </tr>\n",
       "    <tr>\n",
       "      <th>1</th>\n",
       "      <td>2022-01-01 00:53:16.300</td>\n",
       "      <td>botxbGKkKNaXfKGiR</td>\n",
       "      <td>41.000</td>\n",
       "    </tr>\n",
       "    <tr>\n",
       "      <th>2</th>\n",
       "      <td>2022-01-01 03:50:03.295</td>\n",
       "      <td>bQbjq4PobqAFRcTy2</td>\n",
       "      <td>58.000</td>\n",
       "    </tr>\n",
       "    <tr>\n",
       "      <th>3</th>\n",
       "      <td>2022-01-01 06:11:30.875</td>\n",
       "      <td>SXLpG8h4PmbF4Afeg</td>\n",
       "      <td>53.000</td>\n",
       "    </tr>\n",
       "    <tr>\n",
       "      <th>4</th>\n",
       "      <td>2022-01-01 09:11:55.582</td>\n",
       "      <td>dLh5ehuYNXQDdPJ5C</td>\n",
       "      <td>17.052</td>\n",
       "    </tr>\n",
       "    <tr>\n",
       "      <th>...</th>\n",
       "      <td>...</td>\n",
       "      <td>...</td>\n",
       "      <td>...</td>\n",
       "    </tr>\n",
       "    <tr>\n",
       "      <th>34912</th>\n",
       "      <td>2022-12-01 16:42:55.145</td>\n",
       "      <td>Cen5CyJJPYhaG4gz2</td>\n",
       "      <td>37.246</td>\n",
       "    </tr>\n",
       "    <tr>\n",
       "      <th>34913</th>\n",
       "      <td>2022-12-01 17:28:24.579</td>\n",
       "      <td>RE5efDCChWYm4ap3c</td>\n",
       "      <td>58.000</td>\n",
       "    </tr>\n",
       "    <tr>\n",
       "      <th>34914</th>\n",
       "      <td>2022-12-01 18:33:38.598</td>\n",
       "      <td>f1286</td>\n",
       "      <td>44.306</td>\n",
       "    </tr>\n",
       "    <tr>\n",
       "      <th>34915</th>\n",
       "      <td>2022-12-01 20:03:53.130</td>\n",
       "      <td>a7DBGzjraCyXm6yy8</td>\n",
       "      <td>61.500</td>\n",
       "    </tr>\n",
       "    <tr>\n",
       "      <th>34916</th>\n",
       "      <td>2022-12-01 20:20:50.472</td>\n",
       "      <td>gv89nbRTkCpcojCia</td>\n",
       "      <td>52.151</td>\n",
       "    </tr>\n",
       "  </tbody>\n",
       "</table>\n",
       "<p>34917 rows × 3 columns</p>\n",
       "</div>"
      ],
      "text/plain": [
       "                            ts               user  payment\n",
       "0      2022-01-01 00:03:40.907  Kkkww7LxsEqojhi6i  101.000\n",
       "1      2022-01-01 00:53:16.300  botxbGKkKNaXfKGiR   41.000\n",
       "2      2022-01-01 03:50:03.295  bQbjq4PobqAFRcTy2   58.000\n",
       "3      2022-01-01 06:11:30.875  SXLpG8h4PmbF4Afeg   53.000\n",
       "4      2022-01-01 09:11:55.582  dLh5ehuYNXQDdPJ5C   17.052\n",
       "...                        ...                ...      ...\n",
       "34912  2022-12-01 16:42:55.145  Cen5CyJJPYhaG4gz2   37.246\n",
       "34913  2022-12-01 17:28:24.579  RE5efDCChWYm4ap3c   58.000\n",
       "34914  2022-12-01 18:33:38.598              f1286   44.306\n",
       "34915  2022-12-01 20:03:53.130  a7DBGzjraCyXm6yy8   61.500\n",
       "34916  2022-12-01 20:20:50.472  gv89nbRTkCpcojCia   52.151\n",
       "\n",
       "[34917 rows x 3 columns]"
      ]
     },
     "execution_count": 2,
     "metadata": {},
     "output_type": "execute_result"
    }
   ],
   "source": [
    "test_df = pd.read_csv(\"data/test_data.csv\", index_col=0)\n",
    "test_df.reset_index(inplace=True, drop=True)\n",
    "test_df"
   ]
  },
  {
   "cell_type": "code",
   "execution_count": 3,
   "id": "025277a8",
   "metadata": {
    "ExecuteTime": {
     "end_time": "2022-12-08T16:40:31.236005Z",
     "start_time": "2022-12-08T16:40:31.222993Z"
    }
   },
   "outputs": [],
   "source": [
    "# get date of the holidays\n",
    "holiday_list = []\n",
    "for holiday in holidays.Belarus(years=[2022]).items():\n",
    "    holiday_list.append(holiday[0])"
   ]
  },
  {
   "cell_type": "code",
   "execution_count": 4,
   "id": "cf46644e",
   "metadata": {
    "ExecuteTime": {
     "end_time": "2022-12-08T16:40:31.377659Z",
     "start_time": "2022-12-08T16:40:31.237992Z"
    }
   },
   "outputs": [],
   "source": [
    "season_dict = {1: 1,\n",
    "               2: 1,\n",
    "               3: 2,\n",
    "               4: 2,\n",
    "               5: 2,\n",
    "               6: 3,\n",
    "               7: 3,\n",
    "               8: 3,\n",
    "               9: 4,\n",
    "               10: 4,\n",
    "               11: 4,\n",
    "               12: 1}"
   ]
  },
  {
   "cell_type": "code",
   "execution_count": 5,
   "id": "14259a69",
   "metadata": {
    "ExecuteTime": {
     "end_time": "2022-12-08T16:40:31.517076Z",
     "start_time": "2022-12-08T16:40:31.379636Z"
    }
   },
   "outputs": [],
   "source": [
    "def create_time_features(df_, date_col='date_time'):\n",
    "    df_[date_col] = pd.to_datetime(df_[date_col])\n",
    "    \n",
    "    df_['year'] = df_[date_col].dt.year\n",
    "    df_['month'] = df_[date_col].dt.month\n",
    "    df_['season'] = df_['month'].apply(lambda x: season_dict[x])\n",
    "    df_['week_day'] = df_[date_col].dt.day_name()\n",
    "    df_['is_weekend'] = np.where(\n",
    "        (df_['week_day'] == \"Saturday\") | (df_['week_day'] == \"Sunday\"), 1, 0)\n",
    "\n",
    "    df_['is_holiday'] = np.where(\n",
    "        df_[date_col].dt.date.isin(holiday_list), 1, 0)\n",
    "    \n",
    "    df_.drop(date_col, inplace=True, axis=1)\n",
    "    return df_"
   ]
  },
  {
   "cell_type": "code",
   "execution_count": 6,
   "id": "17c187c3",
   "metadata": {
    "ExecuteTime": {
     "end_time": "2022-12-08T16:40:31.740374Z",
     "start_time": "2022-12-08T16:40:31.522046Z"
    },
    "scrolled": true
   },
   "outputs": [
    {
     "data": {
      "text/html": [
       "<div>\n",
       "<style scoped>\n",
       "    .dataframe tbody tr th:only-of-type {\n",
       "        vertical-align: middle;\n",
       "    }\n",
       "\n",
       "    .dataframe tbody tr th {\n",
       "        vertical-align: top;\n",
       "    }\n",
       "\n",
       "    .dataframe thead th {\n",
       "        text-align: right;\n",
       "    }\n",
       "</style>\n",
       "<table border=\"1\" class=\"dataframe\">\n",
       "  <thead>\n",
       "    <tr style=\"text-align: right;\">\n",
       "      <th></th>\n",
       "      <th>user</th>\n",
       "      <th>payment</th>\n",
       "      <th>date</th>\n",
       "      <th>year</th>\n",
       "      <th>month</th>\n",
       "      <th>season</th>\n",
       "      <th>week_day</th>\n",
       "      <th>is_weekend</th>\n",
       "      <th>is_holiday</th>\n",
       "    </tr>\n",
       "  </thead>\n",
       "  <tbody>\n",
       "    <tr>\n",
       "      <th>0</th>\n",
       "      <td>Kkkww7LxsEqojhi6i</td>\n",
       "      <td>101.000</td>\n",
       "      <td>2022-01-01</td>\n",
       "      <td>2022</td>\n",
       "      <td>1</td>\n",
       "      <td>1</td>\n",
       "      <td>Saturday</td>\n",
       "      <td>1</td>\n",
       "      <td>1</td>\n",
       "    </tr>\n",
       "    <tr>\n",
       "      <th>1</th>\n",
       "      <td>botxbGKkKNaXfKGiR</td>\n",
       "      <td>41.000</td>\n",
       "      <td>2022-01-01</td>\n",
       "      <td>2022</td>\n",
       "      <td>1</td>\n",
       "      <td>1</td>\n",
       "      <td>Saturday</td>\n",
       "      <td>1</td>\n",
       "      <td>1</td>\n",
       "    </tr>\n",
       "    <tr>\n",
       "      <th>2</th>\n",
       "      <td>bQbjq4PobqAFRcTy2</td>\n",
       "      <td>58.000</td>\n",
       "      <td>2022-01-01</td>\n",
       "      <td>2022</td>\n",
       "      <td>1</td>\n",
       "      <td>1</td>\n",
       "      <td>Saturday</td>\n",
       "      <td>1</td>\n",
       "      <td>1</td>\n",
       "    </tr>\n",
       "    <tr>\n",
       "      <th>3</th>\n",
       "      <td>SXLpG8h4PmbF4Afeg</td>\n",
       "      <td>53.000</td>\n",
       "      <td>2022-01-01</td>\n",
       "      <td>2022</td>\n",
       "      <td>1</td>\n",
       "      <td>1</td>\n",
       "      <td>Saturday</td>\n",
       "      <td>1</td>\n",
       "      <td>1</td>\n",
       "    </tr>\n",
       "    <tr>\n",
       "      <th>4</th>\n",
       "      <td>dLh5ehuYNXQDdPJ5C</td>\n",
       "      <td>17.052</td>\n",
       "      <td>2022-01-01</td>\n",
       "      <td>2022</td>\n",
       "      <td>1</td>\n",
       "      <td>1</td>\n",
       "      <td>Saturday</td>\n",
       "      <td>1</td>\n",
       "      <td>1</td>\n",
       "    </tr>\n",
       "    <tr>\n",
       "      <th>...</th>\n",
       "      <td>...</td>\n",
       "      <td>...</td>\n",
       "      <td>...</td>\n",
       "      <td>...</td>\n",
       "      <td>...</td>\n",
       "      <td>...</td>\n",
       "      <td>...</td>\n",
       "      <td>...</td>\n",
       "      <td>...</td>\n",
       "    </tr>\n",
       "    <tr>\n",
       "      <th>34912</th>\n",
       "      <td>Cen5CyJJPYhaG4gz2</td>\n",
       "      <td>37.246</td>\n",
       "      <td>2022-12-01</td>\n",
       "      <td>2022</td>\n",
       "      <td>12</td>\n",
       "      <td>1</td>\n",
       "      <td>Thursday</td>\n",
       "      <td>0</td>\n",
       "      <td>0</td>\n",
       "    </tr>\n",
       "    <tr>\n",
       "      <th>34913</th>\n",
       "      <td>RE5efDCChWYm4ap3c</td>\n",
       "      <td>58.000</td>\n",
       "      <td>2022-12-01</td>\n",
       "      <td>2022</td>\n",
       "      <td>12</td>\n",
       "      <td>1</td>\n",
       "      <td>Thursday</td>\n",
       "      <td>0</td>\n",
       "      <td>0</td>\n",
       "    </tr>\n",
       "    <tr>\n",
       "      <th>34914</th>\n",
       "      <td>f1286</td>\n",
       "      <td>44.306</td>\n",
       "      <td>2022-12-01</td>\n",
       "      <td>2022</td>\n",
       "      <td>12</td>\n",
       "      <td>1</td>\n",
       "      <td>Thursday</td>\n",
       "      <td>0</td>\n",
       "      <td>0</td>\n",
       "    </tr>\n",
       "    <tr>\n",
       "      <th>34915</th>\n",
       "      <td>a7DBGzjraCyXm6yy8</td>\n",
       "      <td>61.500</td>\n",
       "      <td>2022-12-01</td>\n",
       "      <td>2022</td>\n",
       "      <td>12</td>\n",
       "      <td>1</td>\n",
       "      <td>Thursday</td>\n",
       "      <td>0</td>\n",
       "      <td>0</td>\n",
       "    </tr>\n",
       "    <tr>\n",
       "      <th>34916</th>\n",
       "      <td>gv89nbRTkCpcojCia</td>\n",
       "      <td>52.151</td>\n",
       "      <td>2022-12-01</td>\n",
       "      <td>2022</td>\n",
       "      <td>12</td>\n",
       "      <td>1</td>\n",
       "      <td>Thursday</td>\n",
       "      <td>0</td>\n",
       "      <td>0</td>\n",
       "    </tr>\n",
       "  </tbody>\n",
       "</table>\n",
       "<p>34917 rows × 9 columns</p>\n",
       "</div>"
      ],
      "text/plain": [
       "                    user  payment        date  year  month  season  week_day  \\\n",
       "0      Kkkww7LxsEqojhi6i  101.000  2022-01-01  2022      1       1  Saturday   \n",
       "1      botxbGKkKNaXfKGiR   41.000  2022-01-01  2022      1       1  Saturday   \n",
       "2      bQbjq4PobqAFRcTy2   58.000  2022-01-01  2022      1       1  Saturday   \n",
       "3      SXLpG8h4PmbF4Afeg   53.000  2022-01-01  2022      1       1  Saturday   \n",
       "4      dLh5ehuYNXQDdPJ5C   17.052  2022-01-01  2022      1       1  Saturday   \n",
       "...                  ...      ...         ...   ...    ...     ...       ...   \n",
       "34912  Cen5CyJJPYhaG4gz2   37.246  2022-12-01  2022     12       1  Thursday   \n",
       "34913  RE5efDCChWYm4ap3c   58.000  2022-12-01  2022     12       1  Thursday   \n",
       "34914              f1286   44.306  2022-12-01  2022     12       1  Thursday   \n",
       "34915  a7DBGzjraCyXm6yy8   61.500  2022-12-01  2022     12       1  Thursday   \n",
       "34916  gv89nbRTkCpcojCia   52.151  2022-12-01  2022     12       1  Thursday   \n",
       "\n",
       "       is_weekend  is_holiday  \n",
       "0               1           1  \n",
       "1               1           1  \n",
       "2               1           1  \n",
       "3               1           1  \n",
       "4               1           1  \n",
       "...           ...         ...  \n",
       "34912           0           0  \n",
       "34913           0           0  \n",
       "34914           0           0  \n",
       "34915           0           0  \n",
       "34916           0           0  \n",
       "\n",
       "[34917 rows x 9 columns]"
      ]
     },
     "execution_count": 6,
     "metadata": {},
     "output_type": "execute_result"
    }
   ],
   "source": [
    "test_df[\"ts\"] = pd.to_datetime(test_df[\"ts\"])\n",
    "test_df['date'] = test_df[\"ts\"].dt.date\n",
    "test_df = create_time_features(test_df, date_col=\"ts\")\n",
    "\n",
    "test_df"
   ]
  },
  {
   "cell_type": "markdown",
   "id": "a3e27c2f",
   "metadata": {},
   "source": [
    "# Calculate month revenue / Рассчитать ежемесячный выручку"
   ]
  },
  {
   "cell_type": "code",
   "execution_count": 114,
   "id": "b5fa7d11",
   "metadata": {
    "ExecuteTime": {
     "end_time": "2022-12-08T17:20:45.829565Z",
     "start_time": "2022-12-08T17:20:45.795560Z"
    }
   },
   "outputs": [
    {
     "data": {
      "text/html": [
       "<div>\n",
       "<style scoped>\n",
       "    .dataframe tbody tr th:only-of-type {\n",
       "        vertical-align: middle;\n",
       "    }\n",
       "\n",
       "    .dataframe tbody tr th {\n",
       "        vertical-align: top;\n",
       "    }\n",
       "\n",
       "    .dataframe thead th {\n",
       "        text-align: right;\n",
       "    }\n",
       "</style>\n",
       "<table border=\"1\" class=\"dataframe\">\n",
       "  <thead>\n",
       "    <tr style=\"text-align: right;\">\n",
       "      <th></th>\n",
       "      <th>year</th>\n",
       "      <th>month</th>\n",
       "      <th>revenue</th>\n",
       "      <th>ARPU</th>\n",
       "    </tr>\n",
       "  </thead>\n",
       "  <tbody>\n",
       "    <tr>\n",
       "      <th>0</th>\n",
       "      <td>2022</td>\n",
       "      <td>1</td>\n",
       "      <td>125583.44405</td>\n",
       "      <td>38.101773</td>\n",
       "    </tr>\n",
       "    <tr>\n",
       "      <th>1</th>\n",
       "      <td>2022</td>\n",
       "      <td>2</td>\n",
       "      <td>122304.74531</td>\n",
       "      <td>37.912196</td>\n",
       "    </tr>\n",
       "    <tr>\n",
       "      <th>2</th>\n",
       "      <td>2022</td>\n",
       "      <td>3</td>\n",
       "      <td>135702.28475</td>\n",
       "      <td>37.497177</td>\n",
       "    </tr>\n",
       "    <tr>\n",
       "      <th>3</th>\n",
       "      <td>2022</td>\n",
       "      <td>4</td>\n",
       "      <td>129630.32295</td>\n",
       "      <td>37.175315</td>\n",
       "    </tr>\n",
       "    <tr>\n",
       "      <th>4</th>\n",
       "      <td>2022</td>\n",
       "      <td>5</td>\n",
       "      <td>125434.95690</td>\n",
       "      <td>38.619137</td>\n",
       "    </tr>\n",
       "    <tr>\n",
       "      <th>5</th>\n",
       "      <td>2022</td>\n",
       "      <td>6</td>\n",
       "      <td>107664.00200</td>\n",
       "      <td>40.983632</td>\n",
       "    </tr>\n",
       "    <tr>\n",
       "      <th>6</th>\n",
       "      <td>2022</td>\n",
       "      <td>7</td>\n",
       "      <td>86557.63950</td>\n",
       "      <td>40.353212</td>\n",
       "    </tr>\n",
       "    <tr>\n",
       "      <th>7</th>\n",
       "      <td>2022</td>\n",
       "      <td>8</td>\n",
       "      <td>100957.33599</td>\n",
       "      <td>42.276941</td>\n",
       "    </tr>\n",
       "    <tr>\n",
       "      <th>8</th>\n",
       "      <td>2022</td>\n",
       "      <td>9</td>\n",
       "      <td>118115.96055</td>\n",
       "      <td>44.106035</td>\n",
       "    </tr>\n",
       "    <tr>\n",
       "      <th>9</th>\n",
       "      <td>2022</td>\n",
       "      <td>10</td>\n",
       "      <td>112693.25433</td>\n",
       "      <td>41.738242</td>\n",
       "    </tr>\n",
       "    <tr>\n",
       "      <th>10</th>\n",
       "      <td>2022</td>\n",
       "      <td>11</td>\n",
       "      <td>120662.11504</td>\n",
       "      <td>42.352445</td>\n",
       "    </tr>\n",
       "    <tr>\n",
       "      <th>11</th>\n",
       "      <td>2022</td>\n",
       "      <td>12</td>\n",
       "      <td>111594.11135</td>\n",
       "      <td>42.047517</td>\n",
       "    </tr>\n",
       "  </tbody>\n",
       "</table>\n",
       "</div>"
      ],
      "text/plain": [
       "    year  month       revenue       ARPU\n",
       "0   2022      1  125583.44405  38.101773\n",
       "1   2022      2  122304.74531  37.912196\n",
       "2   2022      3  135702.28475  37.497177\n",
       "3   2022      4  129630.32295  37.175315\n",
       "4   2022      5  125434.95690  38.619137\n",
       "5   2022      6  107664.00200  40.983632\n",
       "6   2022      7   86557.63950  40.353212\n",
       "7   2022      8  100957.33599  42.276941\n",
       "8   2022      9  118115.96055  44.106035\n",
       "9   2022     10  112693.25433  41.738242\n",
       "10  2022     11  120662.11504  42.352445\n",
       "11  2022     12  111594.11135  42.047517"
      ]
     },
     "execution_count": 114,
     "metadata": {},
     "output_type": "execute_result"
    }
   ],
   "source": [
    "month_stats = test_df.groupby([\"year\", \"month\"]).agg({\"payment\": [\"sum\", \"mean\"]})\n",
    "month_stats.columns = [\"revenue\", \"ARPU\"]\n",
    "month_stats = month_stats.reset_index()\n",
    "month_stats.to_csv(\"data/month_revenue.csv\")\n",
    "month_stats"
   ]
  },
  {
   "cell_type": "code",
   "execution_count": 115,
   "id": "41968ec5",
   "metadata": {
    "ExecuteTime": {
     "end_time": "2022-12-08T17:20:47.274154Z",
     "start_time": "2022-12-08T17:20:47.051063Z"
    },
    "scrolled": false
   },
   "outputs": [
    {
     "data": {
      "image/png": "[encoded data removed]",
      "text/plain": [
       "<Figure size 1200x600 with 1 Axes>"
      ]
     },
     "metadata": {},
     "output_type": "display_data"
    }
   ],
   "source": [
    "plt.rcParams[\"figure.figsize\"] = (12, 6)\n",
    "sns.lineplot(data=month_stats,\n",
    "             x=\"month\",\n",
    "             y=\"revenue\",\n",
    "             marker='o')\n",
    "plt.xticks(range(1, 13),\n",
    "                  labels=['January', 'February', 'March', 'April', 'May', 'June',\n",
    "                          'July', 'August', 'September', 'October', 'November', 'December'])\n",
    "plt.xlabel(\"Month\")\n",
    "plt.ylabel(\"Revenue\")\n",
    "\n",
    "\n",
    "plt.savefig(\"imgs/month2revenue.png\", transparent=True)"
   ]
  },
  {
   "cell_type": "markdown",
   "id": "d4f927d0",
   "metadata": {},
   "source": [
    "# predict income for 2023 for each month for current users only / предскажите доход на 2023 год для каждого месяца только для текущих пользователей"
   ]
  },
  {
   "cell_type": "markdown",
   "id": "fb0debc3",
   "metadata": {},
   "source": [
    "assuming there are no more new users / предположение, что новых пользователей больше нет"
   ]
  },
  {
   "cell_type": "markdown",
   "id": "9198d04b",
   "metadata": {},
   "source": [
    "## Moving Average"
   ]
  },
  {
   "cell_type": "code",
   "execution_count": 116,
   "id": "630fd44b",
   "metadata": {
    "ExecuteTime": {
     "end_time": "2022-12-08T17:20:49.310898Z",
     "start_time": "2022-12-08T17:20:49.274884Z"
    }
   },
   "outputs": [
    {
     "name": "stderr",
     "output_type": "stream",
     "text": [
      "C:\\Users\\hugom\\AppData\\Local\\Temp\\ipykernel_3188\\251529241.py:3: FutureWarning: The frame.append method is deprecated and will be removed from pandas in a future version. Use pandas.concat instead.\n",
      "  month_stats = month_stats.append(new_row, ignore_index=True)\n",
      "C:\\Users\\hugom\\AppData\\Local\\Temp\\ipykernel_3188\\251529241.py:3: FutureWarning: The frame.append method is deprecated and will be removed from pandas in a future version. Use pandas.concat instead.\n",
      "  month_stats = month_stats.append(new_row, ignore_index=True)\n",
      "C:\\Users\\hugom\\AppData\\Local\\Temp\\ipykernel_3188\\251529241.py:3: FutureWarning: The frame.append method is deprecated and will be removed from pandas in a future version. Use pandas.concat instead.\n",
      "  month_stats = month_stats.append(new_row, ignore_index=True)\n",
      "C:\\Users\\hugom\\AppData\\Local\\Temp\\ipykernel_3188\\251529241.py:3: FutureWarning: The frame.append method is deprecated and will be removed from pandas in a future version. Use pandas.concat instead.\n",
      "  month_stats = month_stats.append(new_row, ignore_index=True)\n",
      "C:\\Users\\hugom\\AppData\\Local\\Temp\\ipykernel_3188\\251529241.py:3: FutureWarning: The frame.append method is deprecated and will be removed from pandas in a future version. Use pandas.concat instead.\n",
      "  month_stats = month_stats.append(new_row, ignore_index=True)\n",
      "C:\\Users\\hugom\\AppData\\Local\\Temp\\ipykernel_3188\\251529241.py:3: FutureWarning: The frame.append method is deprecated and will be removed from pandas in a future version. Use pandas.concat instead.\n",
      "  month_stats = month_stats.append(new_row, ignore_index=True)\n",
      "C:\\Users\\hugom\\AppData\\Local\\Temp\\ipykernel_3188\\251529241.py:3: FutureWarning: The frame.append method is deprecated and will be removed from pandas in a future version. Use pandas.concat instead.\n",
      "  month_stats = month_stats.append(new_row, ignore_index=True)\n",
      "C:\\Users\\hugom\\AppData\\Local\\Temp\\ipykernel_3188\\251529241.py:3: FutureWarning: The frame.append method is deprecated and will be removed from pandas in a future version. Use pandas.concat instead.\n",
      "  month_stats = month_stats.append(new_row, ignore_index=True)\n",
      "C:\\Users\\hugom\\AppData\\Local\\Temp\\ipykernel_3188\\251529241.py:3: FutureWarning: The frame.append method is deprecated and will be removed from pandas in a future version. Use pandas.concat instead.\n",
      "  month_stats = month_stats.append(new_row, ignore_index=True)\n",
      "C:\\Users\\hugom\\AppData\\Local\\Temp\\ipykernel_3188\\251529241.py:3: FutureWarning: The frame.append method is deprecated and will be removed from pandas in a future version. Use pandas.concat instead.\n",
      "  month_stats = month_stats.append(new_row, ignore_index=True)\n",
      "C:\\Users\\hugom\\AppData\\Local\\Temp\\ipykernel_3188\\251529241.py:3: FutureWarning: The frame.append method is deprecated and will be removed from pandas in a future version. Use pandas.concat instead.\n",
      "  month_stats = month_stats.append(new_row, ignore_index=True)\n",
      "C:\\Users\\hugom\\AppData\\Local\\Temp\\ipykernel_3188\\251529241.py:3: FutureWarning: The frame.append method is deprecated and will be removed from pandas in a future version. Use pandas.concat instead.\n",
      "  month_stats = month_stats.append(new_row, ignore_index=True)\n"
     ]
    }
   ],
   "source": [
    "for month in range(1, 13):\n",
    "    new_row={\"year\": 2023, \"month\": month}\n",
    "    month_stats = month_stats.append(new_row, ignore_index=True)"
   ]
  },
  {
   "cell_type": "code",
   "execution_count": 122,
   "id": "f3a0d357",
   "metadata": {
    "ExecuteTime": {
     "end_time": "2022-12-08T17:22:07.884194Z",
     "start_time": "2022-12-08T17:22:07.868200Z"
    }
   },
   "outputs": [
    {
     "name": "stderr",
     "output_type": "stream",
     "text": [
      "C:\\Users\\hugom\\AppData\\Local\\Temp\\ipykernel_3188\\1731038178.py:2: SettingWithCopyWarning: \n",
      "A value is trying to be set on a copy of a slice from a DataFrame\n",
      "\n",
      "See the caveats in the documentation: https://pandas.pydata.org/pandas-docs/stable/user_guide/indexing.html#returning-a-view-versus-a-copy\n",
      "  month_stats[\"3-mo_MA\"][0] = month_stats[\"3-mo_MA\"][0:3].mean()\n",
      "C:\\Users\\hugom\\AppData\\Local\\Temp\\ipykernel_3188\\1731038178.py:3: SettingWithCopyWarning: \n",
      "A value is trying to be set on a copy of a slice from a DataFrame\n",
      "\n",
      "See the caveats in the documentation: https://pandas.pydata.org/pandas-docs/stable/user_guide/indexing.html#returning-a-view-versus-a-copy\n",
      "  month_stats[\"3-mo_MA\"][1] = month_stats[\"3-mo_MA\"][1:4].mean()\n"
     ]
    }
   ],
   "source": [
    "month_stats[\"3-mo_MA\"] = month_stats.revenue.rolling(window = 3).mean()\n",
    "month_stats[\"3-mo_MA\"][0] = month_stats[\"3-mo_MA\"][0:3].mean()\n",
    "month_stats[\"3-mo_MA\"][1] = month_stats[\"3-mo_MA\"][1:4].mean()\n",
    "month_stats.loc[:, \"revenue\"] = list(month_stats.loc[:11, \"revenue\"])+list(month_stats.loc[:11, \"3-mo_MA\"])"
   ]
  },
  {
   "cell_type": "code",
   "execution_count": 74,
   "id": "d07096f9",
   "metadata": {
    "ExecuteTime": {
     "end_time": "2022-12-08T17:09:50.489102Z",
     "start_time": "2022-12-08T17:09:50.475104Z"
    }
   },
   "outputs": [],
   "source": [
    "year_2023_pred = pd.DataFrame(\n",
    "    data={\"2022_revenue\": month_stats[\"revenue\"], \"2023_predict_revenue\": month_stats[\"3-mo_MA\"]})\n",
    "year_2023_pred.to_csv(\"data/2023_prediction.csv\")"
   ]
  },
  {
   "cell_type": "code",
   "execution_count": 126,
   "id": "12efe2cc",
   "metadata": {
    "ExecuteTime": {
     "end_time": "2022-12-08T17:23:51.018007Z",
     "start_time": "2022-12-08T17:23:50.755009Z"
    }
   },
   "outputs": [
    {
     "data": {
      "image/png": "[encoded data removed]",
      "text/plain": [
       "<Figure size 1200x600 with 1 Axes>"
      ]
     },
     "metadata": {},
     "output_type": "display_data"
    }
   ],
   "source": [
    "plt.rcParams[\"figure.figsize\"] = (12, 6)\n",
    "sns.lineplot(data=month_stats,\n",
    "             x=\"month\",\n",
    "             y=\"revenue\",\n",
    "             hue=\"year\",\n",
    "             palette=[\"#00ce96\", \"#2a709a\"],\n",
    "             marker='o')\n",
    "plt.xticks(range(1, 13),\n",
    "                  labels=['January', 'February', 'March', 'April', 'May', 'June',\n",
    "                          'July', 'August', 'September', 'October', 'November', 'December'])\n",
    "plt.xlabel(\"Month\")\n",
    "plt.ylabel(\"Revenue\")\n",
    "\n",
    "plt.savefig(\"imgs/prediction.png\", transparent=True)"
   ]
  }
 ],
 "metadata": {
  "kernelspec": {
   "display_name": "Python 3 (ipykernel)",
   "language": "python",
   "name": "python3"
  },
  "language_info": {
   "codemirror_mode": {
    "name": "ipython",
    "version": 3
   },
   "file_extension": ".py",
   "mimetype": "text/x-python",
   "name": "python",
   "nbconvert_exporter": "python",
   "pygments_lexer": "ipython3",
   "version": "3.9.13"
  },
  "toc": {
   "base_numbering": 1,
   "nav_menu": {},
   "number_sections": true,
   "sideBar": true,
   "skip_h1_title": false,
   "title_cell": "Table of Contents",
   "title_sidebar": "Contents",
   "toc_cell": false,
   "toc_position": {},
   "toc_section_display": true,
   "toc_window_display": false
  },
  "varInspector": {
   "cols": {
    "lenName": 16,
    "lenType": 16,
    "lenVar": 40
   },
   "kernels_config": {
    "python": {
     "delete_cmd_postfix": "",
     "delete_cmd_prefix": "del ",
     "library": "var_list.py",
     "varRefreshCmd": "print(var_dic_list())"
    },
    "r": {
     "delete_cmd_postfix": ") ",
     "delete_cmd_prefix": "rm(",
     "library": "var_list.r",
     "varRefreshCmd": "cat(var_dic_list()) "
    }
   },
   "types_to_exclude": [
    "module",
    "function",
    "builtin_function_or_method",
    "instance",
    "_Feature"
   ],
   "window_display": false
  }
 },
 "nbformat": 4,
 "nbformat_minor": 5
}
